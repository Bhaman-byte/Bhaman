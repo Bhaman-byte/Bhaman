{
  "cells": [
    {
      "cell_type": "markdown",
      "metadata": {
        "id": "view-in-github",
        "colab_type": "text"
      },
      "source": [
        "<a href=\"https://colab.research.google.com/github/Bhaman-byte/Bhaman/blob/main/Kondru_Eswari_exercise_01.ipynb\" target=\"_parent\"><img src=\"https://colab.research.google.com/assets/colab-badge.svg\" alt=\"Open In Colab\"/></a>"
      ]
    },
    {
      "cell_type": "markdown",
      "source": [],
      "metadata": {
        "id": "jOOHAqs4j2YW"
      }
    },
    {
      "cell_type": "markdown",
      "source": [
        "## Question 1\n",
        "Write a Python program that  prompts the user to input the length and width of a rectangle, and then calculates and displays the area of the rectangle."
      ],
      "metadata": {
        "id": "FBKvD6O_TY6e"
      }
    },
    {
      "cell_type": "code",
      "source": [
        "length = float(input(\"Enter the length of the rectangle: \"))\n",
        "width = float(input(\"Enter the width of the rectangle: \"))\n",
        "\n",
        "\n",
        "area = length * width\n",
        "\n",
        "print(\"The area of the rectangle is:\", area)\n"
      ],
      "metadata": {
        "id": "jtd3JCfBYoPT",
        "outputId": "141e1cda-3fff-4c34-bbe8-df07df59c3a3",
        "colab": {
          "base_uri": "https://localhost:8080/"
        }
      },
      "execution_count": 1,
      "outputs": [
        {
          "output_type": "stream",
          "name": "stdout",
          "text": [
            "Enter the length of the rectangle: 7\n",
            "Enter the width of the rectangle: 90\n",
            "The area of the rectangle is: 630.0\n"
          ]
        }
      ]
    },
    {
      "cell_type": "markdown",
      "source": [],
      "metadata": {
        "id": "6i-5tFwTj-7-"
      }
    },
    {
      "cell_type": "markdown",
      "source": [
        "## Question 2\n",
        "Create a Python program that interactively takes two numerical inputs from the user and swaps their values without utilizing an extra variable."
      ],
      "metadata": {
        "id": "E9RqrlwdTfvl"
      }
    },
    {
      "cell_type": "code",
      "source": [
        "\n",
        "num1 = float(input(\"Enter the first number: \"))\n",
        "num2 = float(input(\"Enter the second number: \"))\n",
        "\n",
        "num1 = num1 + num2\n",
        "num2 = num1 - num2\n",
        "num1 = num1 - num2\n",
        "\n",
        "\n",
        "print(\"After swapping:\")\n",
        "print(\"First number:\", num1)\n",
        "print(\"Second number:\", num2)"
      ],
      "metadata": {
        "id": "su7ualjwZh8l",
        "outputId": "f6470146-899d-4b29-f311-35e27bb457ad",
        "colab": {
          "base_uri": "https://localhost:8080/"
        }
      },
      "execution_count": 2,
      "outputs": [
        {
          "output_type": "stream",
          "name": "stdout",
          "text": [
            "Enter the first number: 5\n",
            "Enter the second number: 8\n",
            "After swapping:\n",
            "First number: 8.0\n",
            "Second number: 5.0\n"
          ]
        }
      ]
    },
    {
      "cell_type": "markdown",
      "source": [],
      "metadata": {
        "id": "Gpx8_t4lkHxj"
      }
    },
    {
      "cell_type": "markdown",
      "metadata": {
        "id": "03jb4GZsBkBS"
      },
      "source": [
        "## Question 3\n",
        "Write a Python script to determine and print the length of a user-input string."
      ]
    },
    {
      "cell_type": "code",
      "source": [
        "\n",
        "user_string = input(\"Enter a string: \")\n",
        "\n",
        "\n",
        "length_of_string = len(user_string)\n",
        "\n",
        "\n",
        "print(\"The length of the entered string is:\", length_of_string)"
      ],
      "metadata": {
        "id": "_KL2wzj9Z91O",
        "outputId": "73fd2b65-b1b7-4022-832b-dde1c07703a9",
        "colab": {
          "base_uri": "https://localhost:8080/"
        }
      },
      "execution_count": 3,
      "outputs": [
        {
          "output_type": "stream",
          "name": "stdout",
          "text": [
            "Enter a string: 9\n",
            "The length of the entered string is: 1\n"
          ]
        }
      ]
    },
    {
      "cell_type": "markdown",
      "source": [],
      "metadata": {
        "id": "KPMQ8NlPkNr-"
      }
    },
    {
      "cell_type": "markdown",
      "metadata": {
        "id": "jJDe71iLB616"
      },
      "source": [
        "## Question 4\n",
        "Construct a Python program that counts and displays the occurrences of each character in a given string.\n",
        "\n",
        "Sample String: 'openai.ai',\n",
        "\n",
        "Expected Result: {'a': 2, 'i': 2, '.': 1, 'o': 1, 'p': 1, 'e': 1, 'n': 1}"
      ]
    },
    {
      "cell_type": "code",
      "source": [
        "\n",
        "sample_string = \"instagram\"\n",
        "\n",
        "\n",
        "char_count = {}\n",
        "\n",
        "\n",
        "for char in sample_string:\n",
        "    if char in char_count:\n",
        "        char_count[char] += 1\n",
        "    else:\n",
        "        char_count[char] = 1\n",
        "\n",
        "\n",
        "print(char_count)"
      ],
      "metadata": {
        "id": "OCwwXsYSaN5z",
        "outputId": "2a046f20-b4ee-4d56-a687-fb58c529a4c3",
        "colab": {
          "base_uri": "https://localhost:8080/"
        }
      },
      "execution_count": 5,
      "outputs": [
        {
          "output_type": "stream",
          "name": "stdout",
          "text": [
            "{'i': 1, 'n': 1, 's': 1, 't': 1, 'a': 2, 'g': 1, 'r': 1, 'm': 1}\n"
          ]
        }
      ]
    },
    {
      "cell_type": "markdown",
      "source": [],
      "metadata": {
        "id": "Qc0GRKackVDW"
      }
    },
    {
      "cell_type": "markdown",
      "metadata": {
        "id": "55W9AMdXCSpV"
      },
      "source": [
        "## Question 5\n",
        "Design a Python code to calculate the sum of all elements in a user-provided list."
      ]
    },
    {
      "cell_type": "code",
      "source": [
        "\n",
        "user_list = input(\"Enter a list of numbers separated by spaces: \").split()\n",
        "\n",
        "\n",
        "user_list = [float(num) for num in user_list]\n",
        "\n",
        "\n",
        "sum_of_elements = sum(user_list)\n",
        "\n",
        "\n",
        "print(\"The sum of all elements in the list is:\", sum_of_elements)"
      ],
      "metadata": {
        "id": "Ir4TXO17ahOm",
        "outputId": "d19dbfaf-855c-4347-cc2f-fefede5ef98f",
        "colab": {
          "base_uri": "https://localhost:8080/"
        }
      },
      "execution_count": 6,
      "outputs": [
        {
          "output_type": "stream",
          "name": "stdout",
          "text": [
            "Enter a list of numbers separated by spaces: 10 225 1992 1843 2 1776\n",
            "The sum of all elements in the list is: 5848.0\n"
          ]
        }
      ]
    },
    {
      "cell_type": "markdown",
      "source": [],
      "metadata": {
        "id": "BwxPFI0bkZ-M"
      }
    },
    {
      "cell_type": "markdown",
      "metadata": {
        "id": "4ulBZ6yhCi9F"
      },
      "source": [
        "## Question 6\n",
        "Write a Python program that modifies a given string by replacing all occurrences of its first character with '$', excluding the first character itself.\n",
        "\n",
        "\n",
        "Sample String : 'restart‘\n",
        "Expected Result : 'resta\\$t'"
      ]
    },
    {
      "cell_type": "code",
      "source": [
        "\n",
        "sample_string = \"popcorn\"\n",
        "\n",
        "\n",
        "first_char = sample_string[0]\n",
        "\n",
        "\n",
        "modified_string = first_char + sample_string[1:].replace(first_char, '&')\n",
        "\n",
        "\n",
        "print(\"Modified string:\", modified_string)"
      ],
      "metadata": {
        "id": "6qDXGeS-azA3",
        "outputId": "9aba6d12-dc02-47b7-ca9d-2805ebf327e2",
        "colab": {
          "base_uri": "https://localhost:8080/"
        }
      },
      "execution_count": 8,
      "outputs": [
        {
          "output_type": "stream",
          "name": "stdout",
          "text": [
            "Modified string: po&corn\n"
          ]
        }
      ]
    },
    {
      "cell_type": "markdown",
      "source": [],
      "metadata": {
        "id": "pxe-Wqqkkdtd"
      }
    },
    {
      "cell_type": "markdown",
      "source": [
        "## Question 7\n",
        "Write a Python program using a while loop to compute the factorial of a user-supplied number."
      ],
      "metadata": {
        "id": "qVXA3q7ET5JI"
      }
    },
    {
      "cell_type": "code",
      "source": [
        "\n",
        "number = int(input(\"Enter a number to compute its factorial: \"))\n",
        "\n",
        "\n",
        "factorial = 1\n",
        "\n",
        "\n",
        "if number < 0:\n",
        "    print(\"Factorial is not defined for negative numbers.\")\n",
        "else:\n",
        "    while number > 0:\n",
        "        factorial *= number\n",
        "        number -= 1\n",
        "\n",
        "\n",
        "    print(\"The factorial is:\", factorial)"
      ],
      "metadata": {
        "id": "VyEQ6M83bEOa",
        "outputId": "fcab3266-428c-41a9-c439-cb558bbba3f5",
        "colab": {
          "base_uri": "https://localhost:8080/"
        }
      },
      "execution_count": 9,
      "outputs": [
        {
          "output_type": "stream",
          "name": "stdout",
          "text": [
            "Enter a number to compute its factorial: 20\n",
            "The factorial is: 2432902008176640000\n"
          ]
        }
      ]
    },
    {
      "cell_type": "markdown",
      "source": [],
      "metadata": {
        "id": "ta_MTCLJkhs-"
      }
    },
    {
      "cell_type": "markdown",
      "source": [
        "## Question 8\n",
        "Create a program that accepts a list of numbers as input and outputs a new list containing only the even numbers."
      ],
      "metadata": {
        "id": "6YfbzXMNT--R"
      }
    },
    {
      "cell_type": "code",
      "source": [
        "\n",
        "user_list = input(\"Enter a list of numbers separated by spaces: \").split()\n",
        "\n",
        "\n",
        "user_list = [int(num) for num in user_list]\n",
        "\n",
        "\n",
        "even_numbers = [num for num in user_list if num % 2 == 0]\n",
        "\n",
        "\n",
        "print(\"List of even numbers:\", even_numbers)"
      ],
      "metadata": {
        "id": "TIkd8uoIbc3w",
        "outputId": "b07ba365-408c-48b5-91bf-b2c6cbc7e135",
        "colab": {
          "base_uri": "https://localhost:8080/"
        }
      },
      "execution_count": 10,
      "outputs": [
        {
          "output_type": "stream",
          "name": "stdout",
          "text": [
            "Enter a list of numbers separated by spaces: 89 78 45 43 336\n",
            "List of even numbers: [78, 336]\n"
          ]
        }
      ]
    },
    {
      "cell_type": "markdown",
      "source": [],
      "metadata": {
        "id": "tmrrI0Rkkk5W"
      }
    },
    {
      "cell_type": "markdown",
      "metadata": {
        "id": "_bIP7s1MCzue"
      },
      "source": [
        "## Question 9\n",
        "Design a Python function to check if a number is prime.\n"
      ]
    },
    {
      "cell_type": "code",
      "source": [
        "\n",
        "\n",
        "def is_prime(n):\n",
        "\n",
        "    if n <= 1:\n",
        "        return False\n",
        "\n",
        "\n",
        "    for i in range(2, int(n**0.5) + 1):\n",
        "        if n % i == 0:\n",
        "            return False\n",
        "\n",
        "    return True\n",
        "\n",
        "\n",
        "number = int(input(\"Enter a number to check if it is prime: \"))\n",
        "\n",
        "if is_prime(number):\n",
        "    print(number, \"is a prime number.\")\n",
        "else:\n",
        "    print(number, \"is not a prime number.\")"
      ],
      "metadata": {
        "id": "KOJHhTZEcL2Q",
        "outputId": "ff464ec3-7f9c-4857-d809-093ae0efe6c2",
        "colab": {
          "base_uri": "https://localhost:8080/"
        }
      },
      "execution_count": 11,
      "outputs": [
        {
          "output_type": "stream",
          "name": "stdout",
          "text": [
            "Enter a number to check if it is prime: 4\n",
            "4 is not a prime number.\n"
          ]
        }
      ]
    },
    {
      "cell_type": "markdown",
      "source": [],
      "metadata": {
        "id": "7nbunp2Ykoei"
      }
    },
    {
      "cell_type": "markdown",
      "metadata": {
        "id": "xCa2bK9aD4Q3"
      },
      "source": [
        "## Question 10\n",
        "Write a Python program to concatenate following dictionaries to create a new one.\n",
        "\n",
        "Sample Dictionary : dic1={1:10, 2:20}, dic2={3:30, 4:40}, dic3={5:50,6:60},\n",
        "\n",
        "Expected Result : {1: 10, 2: 20, 3: 30, 4: 40, 5: 50, 6: 60}\n"
      ]
    },
    {
      "cell_type": "code",
      "source": [
        "\n",
        "dic1 = {2: 20, 4: 60}\n",
        "dic2 = {8: 80, 24: 20}\n",
        "dic3 = {7: 70, 8: 80}\n",
        "\n",
        "\n",
        "result_dict = {}\n",
        "for d in (dic1, dic2, dic3):\n",
        "    result_dict.update(d)\n",
        "\n",
        "\n",
        "print(\"Concatenated dictionary:\", result_dict)"
      ],
      "metadata": {
        "id": "VcHhuyn7cYAn",
        "outputId": "cbb6255a-1adf-4fe7-f4eb-93678df4b7c2",
        "colab": {
          "base_uri": "https://localhost:8080/"
        }
      },
      "execution_count": 12,
      "outputs": [
        {
          "output_type": "stream",
          "name": "stdout",
          "text": [
            "Concatenated dictionary: {2: 20, 4: 60, 8: 80, 24: 20, 7: 70}\n"
          ]
        }
      ]
    },
    {
      "cell_type": "markdown",
      "source": [],
      "metadata": {
        "id": "8fMe1ECVksRo"
      }
    },
    {
      "cell_type": "markdown",
      "source": [
        "## Question 11\n",
        "Design a Python function that takes a tuple of integers as input and returns the largest and smallest elements."
      ],
      "metadata": {
        "id": "bkyZ2xSZUOst"
      }
    },
    {
      "cell_type": "code",
      "source": [
        "\n",
        "def find_min_max(numbers):\n",
        "\n",
        "    if not numbers:\n",
        "        return None, None\n",
        "\n",
        "\n",
        "    smallest = min(numbers)\n",
        "    largest = max(numbers)\n",
        "\n",
        "    return smallest, largest\n",
        "\n",
        "\n",
        "numbers_tuple = (120, 220, 24, 345, 599, 123)\n",
        "\n",
        "smallest, largest = find_min_max(numbers_tuple)\n",
        "print(\"Smallest element:\", smallest)\n",
        "print(\"Largest element:\", largest)"
      ],
      "metadata": {
        "id": "k_XbXDn9cpu0",
        "outputId": "e7ba27f8-a70b-482a-cc45-d82d15022488",
        "colab": {
          "base_uri": "https://localhost:8080/"
        }
      },
      "execution_count": 14,
      "outputs": [
        {
          "output_type": "stream",
          "name": "stdout",
          "text": [
            "Smallest element: 24\n",
            "Largest element: 599\n"
          ]
        }
      ]
    },
    {
      "cell_type": "markdown",
      "source": [],
      "metadata": {
        "id": "oLTehbiUkvH8"
      }
    },
    {
      "cell_type": "markdown",
      "source": [
        "## Question 12\n",
        "Write a Python program that counts the frequency of each character in a given string and stores it in a dictionary."
      ],
      "metadata": {
        "id": "O0TVi3gKUTpp"
      }
    },
    {
      "cell_type": "code",
      "source": [
        "\n",
        "def count_character_frequency(input_string):\n",
        "\n",
        "    char_frequency = {}\n",
        "\n",
        "\n",
        "    for char in input_string:\n",
        "        if char in char_frequency:\n",
        "            char_frequency[char] += 5\n",
        "        else:\n",
        "            char_frequency[char] = 5\n",
        "\n",
        "    return char_frequency\n",
        "\n",
        "\n",
        "input_string = \"power up\"\n",
        "\n",
        "\n",
        "frequency_dict = count_character_frequency(input_string)\n",
        "\n",
        "print(\"Character frequency:\", frequency_dict)"
      ],
      "metadata": {
        "id": "op83IHtLdNuL",
        "outputId": "e9182463-b532-4b41-833c-4d56dcb594cd",
        "colab": {
          "base_uri": "https://localhost:8080/"
        }
      },
      "execution_count": 15,
      "outputs": [
        {
          "output_type": "stream",
          "name": "stdout",
          "text": [
            "Character frequency: {'p': 10, 'o': 5, 'w': 5, 'e': 5, 'r': 5, ' ': 5, 'u': 5}\n"
          ]
        }
      ]
    },
    {
      "cell_type": "markdown",
      "source": [],
      "metadata": {
        "id": "bLgEuBObkzyo"
      }
    },
    {
      "cell_type": "markdown",
      "metadata": {
        "id": "0v48Vqa7FrQh"
      },
      "source": [
        "## Question 13\n",
        "Implement a Python script to identify duplicate elements in a provided array of integers. Return -1 if there are no duplicates."
      ]
    },
    {
      "cell_type": "code",
      "source": [
        "\n",
        "\n",
        "def find_duplicates(arr):\n",
        "\n",
        "    seen = set()\n",
        "\n",
        "    duplicates = set()\n",
        "\n",
        "\n",
        "    for num in arr:\n",
        "        if num in seen:\n",
        "            duplicates.add(num)\n",
        "        else:\n",
        "            seen.add(num)\n",
        "\n",
        "\n",
        "    return list(duplicates) if duplicates else -1\n",
        "\n",
        "\n",
        "array = [1, 2, 3, 4, 5, 6, 0, 5, 3, 4]\n",
        "\n",
        "\n",
        "result = find_duplicates(array)\n",
        "\n",
        "print(\"Duplicates:\", result)"
      ],
      "metadata": {
        "id": "U3udACJ-dv-Y",
        "outputId": "f33d1906-186d-4c90-a652-a6895503f593",
        "colab": {
          "base_uri": "https://localhost:8080/"
        }
      },
      "execution_count": 16,
      "outputs": [
        {
          "output_type": "stream",
          "name": "stdout",
          "text": [
            "Duplicates: [3, 4, 5]\n"
          ]
        }
      ]
    },
    {
      "cell_type": "markdown",
      "source": [],
      "metadata": {
        "id": "jknUr1eRk2i6"
      }
    },
    {
      "cell_type": "markdown",
      "metadata": {
        "id": "vD5PYLMuGga_"
      },
      "source": [
        "## Question 14\n",
        "Write a Python script to find the common elements between two lists."
      ]
    },
    {
      "cell_type": "code",
      "source": [
        "\n",
        "\n",
        "def find_common_elements(list1, list2):\n",
        "\n",
        "    set1 = set(list1)\n",
        "    set2 = set(list2)\n",
        "\n",
        "\n",
        "    common_elements = set1.intersection(set2)\n",
        "\n",
        "    return list(common_elements)\n",
        "\n",
        "\n",
        "list1 = [12, 22, 33, 34, 55]\n",
        "list2 = [12, 15, 33, 37, 38]\n",
        "\n",
        "result = find_common_elements(list1, list2)\n",
        "\n",
        "\n",
        "print(\"Common elements:\", result)"
      ],
      "metadata": {
        "id": "EaK3zDdXeCyA",
        "outputId": "a4a2057e-87da-48ef-ebb4-22248cbbef74",
        "colab": {
          "base_uri": "https://localhost:8080/"
        }
      },
      "execution_count": 17,
      "outputs": [
        {
          "output_type": "stream",
          "name": "stdout",
          "text": [
            "Common elements: [33, 12]\n"
          ]
        }
      ]
    },
    {
      "cell_type": "markdown",
      "source": [],
      "metadata": {
        "id": "FRdPBzDFk5RN"
      }
    },
    {
      "cell_type": "markdown",
      "metadata": {
        "id": "uHkd-y5VhVWC"
      },
      "source": [
        "## Question 15\n",
        "Write a Python program to randomly divide the students in this class into maximum of eight groups for term projects, each group should have at least 4 students but no more than 6 students (including 6).\n",
        "\n",
        "Here is the students list:\n",
        "\n",
        "student_list_spring_2024=[rb0846,\n",
        "ac1964,\n",
        "hc0612,\n",
        "md0912,\n",
        "ad1198,\n",
        "md0894,\n",
        "md0825,\n",
        "vg0598,\n",
        "vg0433,\n",
        "mh1068,\n",
        "yj0173,\n",
        "pk0553,\n",
        "tk0411,\n",
        "srk0204,\n",
        "sk2922,\n",
        "sk2936,\n",
        "mk1302,\n",
        "mk1317,\n",
        "tk0412,\n",
        "vk0656,\n",
        "sm2985,\n",
        "mm2372,\n",
        "un0045,\n",
        "an0892,\n",
        "sn0913,\n",
        "gp0252,\n",
        "ap1484,\n",
        "mr1765,\n",
        "sr1385,\n",
        "sr1335,\n",
        "hs0665,\n",
        "ms2060,\n",
        "gt0217,\n",
        "nt0385,\n",
        "tv0186,\n",
        "sv1394,\n",
        "sv1752,\n",
        "sv1555,\n",
        "sy0594\n",
        "]\n"
      ]
    },
    {
      "cell_type": "code",
      "source": [
        "import random\n",
        "\n",
        "\n",
        "student_list_spring_2024 = [\n",
        "    'rb0846', 'ac1964', 'hc0612', 'md0912', 'ad1198', 'md0894', 'md0825',\n",
        "    'vg0598', 'vg0433', 'mh1068', 'yj0173', 'pk0553', 'tk0411', 'srk0204',\n",
        "    'sk2922', 'sk2936', 'mk1302', 'mk1317', 'tk0412', 'vk0656', 'sm2985',\n",
        "    'mm2372', 'un0045', 'an0892', 'sn0913', 'gp0252', 'ap1484', 'mr1765',\n",
        "    'sr1385', 'sr1335', 'hs0665', 'ms2060', 'gt0217', 'nt0385', 'tv0186',\n",
        "    'sv1394', 'sv1752', 'sv1555', 'sy0594'\n",
        "]\n",
        "\n",
        "def divide_students(students, max_groups=8, min_group_size=4, max_group_size=6):\n",
        "\n",
        "    random.shuffle(students)\n",
        "\n",
        "\n",
        "    groups = []\n",
        "    current_group = []\n",
        "\n",
        "\n",
        "    for student in students:\n",
        "        current_group.append(student)\n",
        "\n",
        "        if len(current_group) == max_group_size:\n",
        "            groups.append(current_group)\n",
        "            current_group = []\n",
        "\n",
        "\n",
        "    if current_group:\n",
        "        groups.append(current_group)\n",
        "\n",
        "\n",
        "    while len(groups) > max_groups:\n",
        "\n",
        "        smallest_group = min(groups, key=len)\n",
        "        groups.remove(smallest_group)\n",
        "\n",
        "\n",
        "        for student in smallest_group:\n",
        "            added = False\n",
        "            for group in groups:\n",
        "                if len(group) < max_group_size:\n",
        "                    group.append(student)\n",
        "                    added = True\n",
        "                    break\n",
        "            if not added:\n",
        "                groups.append([student])\n",
        "\n",
        "\n",
        "    for group in groups:\n",
        "        if len(group) < min_group_size:\n",
        "\n",
        "            while len(group) < min_group_size and groups:\n",
        "\n",
        "                largest_group = max(groups, key=len)\n",
        "                if len(largest_group) > max_group_size:\n",
        "\n",
        "                    student = largest_group.pop()\n",
        "                    group.append(student)\n",
        "                else:\n",
        "                    break\n",
        "\n",
        "    return groups\n",
        "\n",
        "\n",
        "student_groups = divide_students(student_list_spring_2024)\n",
        "\n",
        "\n",
        "for idx, group in enumerate(student_groups):\n",
        "    print(f\"Group {idx + 1}: {group}\")"
      ],
      "metadata": {
        "id": "aPhljMCEemF8",
        "outputId": "cde2fa5a-ef85-4bd4-ea39-ef9316dde9aa",
        "colab": {
          "base_uri": "https://localhost:8080/"
        }
      },
      "execution_count": 18,
      "outputs": [
        {
          "output_type": "stream",
          "name": "stdout",
          "text": [
            "Group 1: ['ap1484', 'mk1317', 'mh1068', 'an0892', 'vg0433', 'sk2936']\n",
            "Group 2: ['hc0612', 'sv1394', 'tk0411', 'gt0217', 'srk0204', 'gp0252']\n",
            "Group 3: ['nt0385', 'yj0173', 'pk0553', 'vg0598', 'sn0913', 'sk2922']\n",
            "Group 4: ['mr1765', 'un0045', 'rb0846', 'mk1302', 'tk0412', 'md0894']\n",
            "Group 5: ['md0912', 'sr1335', 'ac1964', 'md0825', 'sv1555', 'hs0665']\n",
            "Group 6: ['sm2985', 'sr1385', 'ad1198', 'vk0656', 'sv1752', 'mm2372']\n",
            "Group 7: ['sy0594', 'tv0186', 'ms2060']\n"
          ]
        }
      ]
    },
    {
      "cell_type": "markdown",
      "source": [],
      "metadata": {
        "id": "0GZ-S5awk8VF"
      }
    },
    {
      "cell_type": "markdown",
      "metadata": {
        "id": "fmZ9vX20Qs3d"
      },
      "source": [
        "## Question 16\n",
        "Create a program that takes a positive integer 'n' as input and prints the count of even numbers from 1 to 'n'. Optimize the loop using the continue statement."
      ]
    },
    {
      "cell_type": "code",
      "source": [
        "\n",
        "\n",
        "def count_even_numbers(n):\n",
        "\n",
        "    count = 0\n",
        "\n",
        "\n",
        "    for i in range(1, n + 1):\n",
        "        if i % 2 != 0:\n",
        "            continue\n",
        "        count += 1\n",
        "\n",
        "    return count\n",
        "\n",
        "\n",
        "n = int(input(\"Enter a positive integer n: \"))\n",
        "\n",
        "\n",
        "if n <= 0:\n",
        "    print(\"Please enter a positive integer.\")\n",
        "else:\n",
        "\n",
        "    even_count = count_even_numbers(n)\n",
        "    print(\"Count of even numbers from 1 to\", n, \"is:\", even_count)"
      ],
      "metadata": {
        "id": "TIWYxeLtfEIT",
        "outputId": "bcaec400-67a2-405c-a827-c4b60f12b726",
        "colab": {
          "base_uri": "https://localhost:8080/"
        }
      },
      "execution_count": 19,
      "outputs": [
        {
          "output_type": "stream",
          "name": "stdout",
          "text": [
            "Enter a positive integer n: 54\n",
            "Count of even numbers from 1 to 54 is: 27\n"
          ]
        }
      ]
    },
    {
      "cell_type": "markdown",
      "source": [],
      "metadata": {
        "id": "7LatezpklAEc"
      }
    },
    {
      "cell_type": "markdown",
      "metadata": {
        "id": "hvq4APMhQs3d"
      },
      "source": [
        "## Question 17\n",
        "Develop a Python function called 'count_vowels' that takes a string as input and returns the count of vowels (both lowercase and uppercase) present in the string, ignoring spaces and non-alphabetic characters."
      ]
    },
    {
      "cell_type": "code",
      "source": [
        "def count_vowels(s):\n",
        "\n",
        "    vowels = \"aeiouAEIOU\"\n",
        "\n",
        "    count = 0\n",
        "\n",
        "\n",
        "    for char in s:\n",
        "\n",
        "        if char in vowels:\n",
        "            count += 1\n",
        "\n",
        "    return count\n",
        "\n",
        "\n",
        "input_string = input(\"Enter a string: \")\n",
        "\n",
        "vowel_count = count_vowels(input_string)\n",
        "print(\"Count of vowels:\", vowel_count)"
      ],
      "metadata": {
        "id": "BedMVR18fXZo",
        "outputId": "a728c2e6-dbe0-47ee-d7de-fe1657152e8a",
        "colab": {
          "base_uri": "https://localhost:8080/"
        }
      },
      "execution_count": 20,
      "outputs": [
        {
          "output_type": "stream",
          "name": "stdout",
          "text": [
            "Enter a string: aio \n",
            "Count of vowels: 3\n"
          ]
        }
      ]
    },
    {
      "cell_type": "markdown",
      "source": [],
      "metadata": {
        "id": "89iIwxGnlKG6"
      }
    },
    {
      "cell_type": "markdown",
      "source": [
        "## Question 18\n",
        "Create a custom exception named ValueTooSmallError in Python. Write a program that takes user input for an age, and if the entered age is less than 18, raise the ValueTooSmallError with an appropriate error message."
      ],
      "metadata": {
        "id": "55FWoSJPVVM6"
      }
    },
    {
      "cell_type": "code",
      "source": [
        "\n",
        "class ValueTooSmallError(Exception):\n",
        "    def __init__(self, message=\"Age must be 18 or older\"):\n",
        "        self.message = message\n",
        "        super().__init__(self.message)\n",
        "\n",
        "def check_age(age):\n",
        "    if age < 18:\n",
        "        raise ValueTooSmallError\n",
        "\n",
        "def main():\n",
        "    try:\n",
        "\n",
        "        age = int(input(\"Enter your age: \"))\n",
        "\n",
        "        check_age(age)\n",
        "        print(\"Age accepted.\")\n",
        "    except ValueTooSmallError as e:\n",
        "        print(e)\n",
        "    except ValueError:\n",
        "        print(\"Invalid input. Please enter a valid integer.\")\n",
        "\n",
        "\n",
        "if __name__ == \"__main__\":\n",
        "    main()"
      ],
      "metadata": {
        "id": "SUFD7kRefmqI",
        "outputId": "21c8b211-0215-4e9b-ae15-671d03c9a1bd",
        "colab": {
          "base_uri": "https://localhost:8080/"
        }
      },
      "execution_count": 21,
      "outputs": [
        {
          "output_type": "stream",
          "name": "stdout",
          "text": [
            "Enter your age: 17\n",
            "Age must be 18 or older\n"
          ]
        }
      ]
    },
    {
      "cell_type": "markdown",
      "source": [],
      "metadata": {
        "id": "w7oavK7ClMn3"
      }
    },
    {
      "cell_type": "markdown",
      "source": [
        "## Question 19\n",
        "Develop a script that reverses a given string without using built-in reverse functions."
      ],
      "metadata": {
        "id": "Q9ecagcaVazW"
      }
    },
    {
      "cell_type": "code",
      "source": [
        "def reverse_string(s):\n",
        "\n",
        "    reversed_str = \"\"\n",
        "\n",
        "\n",
        "    for char in s:\n",
        "\n",
        "        reversed_str = char + reversed_str\n",
        "\n",
        "    return reversed_str\n",
        "\n",
        "\n",
        "input_string = input(\"Enter a string to reverse: \")\n",
        "\n",
        "\n",
        "reversed_string = reverse_string(input_string)\n",
        "\n",
        "\n",
        "print(\"Reversed string:\", reversed_string)"
      ],
      "metadata": {
        "id": "IE16T0-lfzI3",
        "outputId": "5a2ed998-a0ce-427d-9ab1-36b6a05d27e1",
        "colab": {
          "base_uri": "https://localhost:8080/"
        }
      },
      "execution_count": 22,
      "outputs": [
        {
          "output_type": "stream",
          "name": "stdout",
          "text": [
            "Enter a string to reverse: Eswari Durga Bhavani Kondru\n",
            "Reversed string: urdnoK inavahB agruD irawsE\n"
          ]
        }
      ]
    },
    {
      "cell_type": "markdown",
      "source": [],
      "metadata": {
        "id": "nXWA5JJslPD2"
      }
    },
    {
      "cell_type": "markdown",
      "source": [
        "## Question 20\n",
        "Implement a Python script to generate a random password of a specified length."
      ],
      "metadata": {
        "id": "ZFG6RibifMLu"
      }
    },
    {
      "cell_type": "code",
      "source": [
        "import random\n",
        "import string\n",
        "\n",
        "def generate_password(length):\n",
        "    if length < 1:\n",
        "        raise ValueError(\"Password length must be at least 1\")\n",
        "\n",
        "\n",
        "    characters = string.ascii_letters + string.digits + string.punctuation\n",
        "\n",
        "\n",
        "    password = ''.join(random.choice(characters) for _ in range(length))\n",
        "\n",
        "    return password\n",
        "\n",
        "\n",
        "try:\n",
        "    length = int(input(\"Enter the desired password length: \"))\n",
        "\n",
        "    password = generate_password(length)\n",
        "    print(\"Generated password:\", password)\n",
        "except ValueError as e:\n",
        "    print(\"Invalid input:\", e)"
      ],
      "metadata": {
        "id": "oL7_36BKgIIY",
        "outputId": "8c84d323-fa56-4eaa-e3ab-7a51082577b8",
        "colab": {
          "base_uri": "https://localhost:8080/"
        }
      },
      "execution_count": 23,
      "outputs": [
        {
          "output_type": "stream",
          "name": "stdout",
          "text": [
            "Enter the desired password length: 15\n",
            "Generated password: Nr!'XoAM\\GT%sLQ\n"
          ]
        }
      ]
    },
    {
      "cell_type": "markdown",
      "source": [],
      "metadata": {
        "id": "neWLEnnOlR08"
      }
    },
    {
      "cell_type": "markdown",
      "source": [
        "(21) Define a base class called 'Vehicle' with attributes make and model. Create a derived class Car that inherits from Vehicle and has an additional attribute 'num_doors'. Demonstrate an example of creating an instance of the 'Car' class and accessing its attributes."
      ],
      "metadata": {
        "id": "cboAr5pEWUf5"
      }
    },
    {
      "cell_type": "code",
      "source": [
        "\n",
        "class Vehicle:\n",
        "    def __init__(self, make, model):\n",
        "        self.make = make\n",
        "        self.model = model\n",
        "\n",
        "    def display_info(self):\n",
        "        return f\"Make: {self.make}, Model: {self.model}\"\n",
        "\n",
        "\n",
        "class Car(Vehicle):\n",
        "    def __init__(self, make, model, num_doors):\n",
        "        super().__init__(make, model)\n",
        "        self.num_doors = num_doors\n",
        "\n",
        "    def display_info(self):\n",
        "        base_info = super().display_info()\n",
        "        return f\"{base_info}, Number of doors: {self.num_doors}\"\n",
        "\n",
        "\n",
        "my_car = Car(\"Jaguar\", \"SX\", 4)\n",
        "\n",
        "print(my_car.display_info())"
      ],
      "metadata": {
        "id": "PXX8L77qgbA_",
        "outputId": "93405241-ff41-4ccb-86e8-a664079fe29e",
        "colab": {
          "base_uri": "https://localhost:8080/"
        }
      },
      "execution_count": 24,
      "outputs": [
        {
          "output_type": "stream",
          "name": "stdout",
          "text": [
            "Make: Jaguar, Model: SX, Number of doors: 4\n"
          ]
        }
      ]
    },
    {
      "cell_type": "markdown",
      "source": [],
      "metadata": {
        "id": "7Su_b_wnlc_y"
      }
    },
    {
      "cell_type": "markdown",
      "source": [
        "(22) Create a class called 'Shape' with a method calculate_area(). Implement two derived classes 'Circle' and 'Rectangle' that inherit from Shape and override the calculate_area() method. Demonstrate polymorphism by creating instances of both derived classes and calling the calculate_area() method."
      ],
      "metadata": {
        "id": "J8HHefNtePwd"
      }
    },
    {
      "cell_type": "code",
      "source": [
        "import math\n",
        "\n",
        "\n",
        "class Shape:\n",
        "    def calculate_area(self):\n",
        "        raise NotImplementedError(\"Subclasses must implement this method\")\n",
        "\n",
        "class Circle(Shape):\n",
        "    def __init__(self, radius):\n",
        "        self.radius = radius\n",
        "\n",
        "    def calculate_area(self):\n",
        "        return math.pi * (self.radius ** 6)\n",
        "\n",
        "class Rectangle(Shape):\n",
        "    def __init__(self, width, height):\n",
        "        self.width = width\n",
        "        self.height = height\n",
        "\n",
        "    def calculate_area(self):\n",
        "        return self.width * self.height\n",
        "\n",
        "\n",
        "def main():\n",
        "\n",
        "    circle = Circle(radius=8)\n",
        "    rectangle = Rectangle(width=9, height=3)\n",
        "\n",
        "\n",
        "    print(f\"Area of the circle: {circle.calculate_area():.2f}\")\n",
        "    print(f\"Area of the rectangle: {rectangle.calculate_area()}\")\n",
        "\n",
        "\n",
        "if __name__ == \"__main__\":\n",
        "    main()"
      ],
      "metadata": {
        "id": "LROgA2npgvVQ",
        "outputId": "c0576c87-fdbd-45ee-8048-0fc6412f9970",
        "colab": {
          "base_uri": "https://localhost:8080/"
        }
      },
      "execution_count": 25,
      "outputs": [
        {
          "output_type": "stream",
          "name": "stdout",
          "text": [
            "Area of the circle: 823549.66\n",
            "Area of the rectangle: 27\n"
          ]
        }
      ]
    },
    {
      "cell_type": "markdown",
      "source": [],
      "metadata": {
        "id": "vwV67Pvqlfat"
      }
    },
    {
      "cell_type": "markdown",
      "source": [
        "(23) Write a Python program that prompts the user to enter two numbers and perform a division operation. Handle exceptions for both zero division and invalid input (non-numeric input). Display appropriate error messages for each type of exception and ensure the program does not crash due to these errors."
      ],
      "metadata": {
        "id": "z0oqEAlTeMUS"
      }
    },
    {
      "cell_type": "code",
      "source": [
        "def main():\n",
        "    try:\n",
        "\n",
        "        num1 = float(input(\"Enter the first number: \"))\n",
        "        num2 = float(input(\"Enter the second number: \"))\n",
        "\n",
        "\n",
        "        result = num1 / num2\n",
        "\n",
        "\n",
        "        print(f\"The result of {num1} divided by {num2} is {result}\")\n",
        "\n",
        "    except ZeroDivisionError:\n",
        "\n",
        "        print(\"Error: Division by zero is not allowed.\")\n",
        "\n",
        "    except ValueError:\n",
        "\n",
        "        print(\"Error: Invalid input. Please enter numeric values.\")\n",
        "\n",
        "    except Exception as e:\n",
        "\n",
        "        print(f\"An unexpected error occurred: {e}\")\n",
        "\n",
        "\n",
        "if __name__ == \"__main__\":\n",
        "    main()"
      ],
      "metadata": {
        "id": "CZ-pdhmXhGvK",
        "outputId": "45dedcc4-d916-4737-b07d-4948e7de800e",
        "colab": {
          "base_uri": "https://localhost:8080/"
        }
      },
      "execution_count": 26,
      "outputs": [
        {
          "output_type": "stream",
          "name": "stdout",
          "text": [
            "Enter the first number: 5\n",
            "Enter the second number: 8\n",
            "The result of 5.0 divided by 8.0 is 0.625\n"
          ]
        }
      ]
    }
  ],
  "metadata": {
    "colab": {
      "toc_visible": true,
      "provenance": [],
      "include_colab_link": true
    },
    "kernelspec": {
      "display_name": "Python 3",
      "name": "python3"
    }
  },
  "nbformat": 4,
  "nbformat_minor": 0
}